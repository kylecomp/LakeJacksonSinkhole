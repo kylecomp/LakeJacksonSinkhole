{
 "cells": [
  {
   "cell_type": "markdown",
   "metadata": {},
   "source": [
    "# Bicarbonate Calulcator\n",
    "\n",
    "The purpose of this notebook is to demonstrate how to calculate Bicarbonate concentrations from alkalinity measurements from the Hach Digital Titrator"
   ]
  },
  {
   "cell_type": "markdown",
   "metadata": {},
   "source": [
    "## Theory behind this\n",
    "\n",
    "### The Carbonate System\n",
    "\n",
    "The carbonate system is a little compilcated due to the three carbonate species that can exist as Dissolved Inorganic Carbon (DIC).  These species are Carbonic Acid (sometimes represented simply as Carbon Dioxide), Bicarobnate, and Carbonate\n",
    "\n",
    "Carbon Dioxide in the air reacts with water to form carbonic acid, a weak diprotic acid\n",
    "\n",
    "<h4 align=\"center\"> H<sub>2</sub>O + CO<sub>2</sub>(aq) &rlhar; H<sub>2</sub>CO<sub>3</sub> </h4>\n",
    "\n",
    "Carbonic acid can dissociate to form Bicarbonate ion\n",
    "\n",
    "<h4 align=\"center\"> H<sub>2</sub>CO<sub>3</sub> &rlhar; HCO<sub>3</sub><sup>-</sup> + H<sup>+</sup> </h4>\n",
    "\n",
    "Bicarbonate can also dissociate to form Carbonate ions\n",
    "\n",
    "<h4 align=\"center\"> HCO<sub>3</sub><sup>-</sup> &rlhar; CO<sub>3</sub><sup>2-</sup> + H<sup>+</sup>  </h4>\n",
    "\n",
    "\n",
    "\n",
    "\n",
    " This is all related to acid-base chemistry, and the acid dissociation constant K<sub>a</sub> for each of these reactions. The relative proportions of these three species is related to the pH of the solution following this diagram\n",
    " \n",
    " ![](https://www.plantedtank.net/cdn-cgi/image/format=auto,onerror=redirect,width=1920,height=1920,fit=scale-down//media/freshwater-bjerrum-carbonate-system-plot-jpg.207313/full)"
   ]
  },
  {
   "cell_type": "markdown",
   "metadata": {},
   "source": [
    "#### Most natural waters, you can assume bicabonate is the only carbon species associated with Total Alkalinity\n",
    "Notice that the range of natural waters (around 6-8) is dominated by the bicarbonate ion.  The lower end of this contains carbonic acid (aka the CO<sub>2</sub>), but it cannot react to more H<sup>+</sup> so it does not contribut to the total alkalinity.\n",
    "\n",
    "Note that Carbonate ions are not present below a pH of ~8.3\n",
    "If you're initial pH from the titration is below 8.3 (usual for naural waters), the amount of carbonate is negligible and can be ignored, leaving only bicarbonate to be left."
   ]
  },
  {
   "cell_type": "markdown",
   "metadata": {},
   "source": [
    "#### Step 1: Load libraries and the dataset containing the Alkalinity measurement\n",
    "For this we will load a full water quality dataset, but will mainly be dealing with the pH and Alkalinity columns\n"
   ]
  },
  {
   "cell_type": "code",
   "execution_count": null,
   "metadata": {},
   "outputs": [],
   "source": []
  }
 ],
 "metadata": {
  "kernelspec": {
   "display_name": "Python 3",
   "language": "python",
   "name": "python3"
  },
  "language_info": {
   "codemirror_mode": {
    "name": "ipython",
    "version": 3
   },
   "file_extension": ".py",
   "mimetype": "text/x-python",
   "name": "python",
   "nbconvert_exporter": "python",
   "pygments_lexer": "ipython3",
   "version": "3.8.5"
  }
 },
 "nbformat": 4,
 "nbformat_minor": 4
}
